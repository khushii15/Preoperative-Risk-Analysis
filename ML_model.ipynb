{
 "cells": [
  {
   "cell_type": "markdown",
   "id": "d66f257a",
   "metadata": {},
   "source": [
    "# ML based model to assess patient’s individual risk of postoperative mortality based on preoperative data"
   ]
  },
  {
   "cell_type": "code",
   "execution_count": 1,
   "id": "dd4eeef4",
   "metadata": {},
   "outputs": [],
   "source": [
    "import pandas as pd\n",
    "import numpy as np\n",
    "import seaborn as sns\n",
    "import re\n",
    "from sklearn.model_selection import (GridSearchCV,StratifiedKFold,\n",
    "                                     train_test_split)\n",
    "from sklearn.linear_model import LogisticRegression \n",
    "from sklearn.metrics import (log_loss,confusion_matrix,\n",
    "                             classification_report,\n",
    "                             ConfusionMatrixDisplay,roc_curve,accuracy_score)\n",
    "import matplotlib.pyplot as plt\n",
    "from sklearn.model_selection import GridSearchCV,StratifiedKFold\n",
    "from sklearn.model_selection import KFold\n",
    "from sklearn.model_selection import cross_val_score\n",
    "from sklearn.linear_model import LogisticRegression \n",
    "import matplotlib.pyplot as plt\n",
    "from sklearn.naive_bayes import GaussianNB\n",
    "from sklearn.neighbors import KNeighborsClassifier\n",
    "from sklearn.preprocessing import StandardScaler \n",
    "from sklearn.preprocessing import MinMaxScaler\n",
    "from sklearn.pipeline import Pipeline\n",
    "from sklearn.preprocessing import LabelEncoder\n",
    "from sklearn.ensemble import StackingClassifier\n",
    "from sklearn.ensemble import GradientBoostingClassifier\n",
    "from sklearn.tree import DecisionTreeClassifier \n",
    "from sklearn.linear_model import LogisticRegression\n",
    "import plotly.offline as pyo\n",
    "from sklearn.svm import SVC\n",
    "import warnings\n",
    "warnings.filterwarnings(\"ignore\")"
   ]
  },
  {
   "cell_type": "markdown",
   "id": "d9c6cf51",
   "metadata": {},
   "source": [
    "# loading the data"
   ]
  },
  {
   "cell_type": "code",
   "execution_count": 2,
   "id": "0e5c190a-0643-411b-8c1c-ac65dcff5296",
   "metadata": {},
   "outputs": [
    {
     "name": "stdout",
     "output_type": "stream",
     "text": [
      "['case_id', 'subjectid', 'casestart', 'caseend', 'anestart', 'aneend', 'opstart', 'opend', 'adm', 'dis', 'icu_days', 'death_inhosp', 'age', 'sex', 'height', 'weight', 'bmi', 'asa', 'emop', 'department', 'optype', 'dx', 'opname', 'approach', 'position', 'ane_type', 'preop_htn', 'preop_dm', 'preop_ecg', 'preop_pft', 'preop_hb', 'preop_plt', 'preop_pt', 'preop_aptt', 'preop_na', 'preop_k', 'preop_gluc', 'preop_alb', 'preop_ast', 'preop_alt', 'preop_bun', 'preop_cr', 'preop_ph', 'preop_hco3', 'preop_be', 'preop_pao2', 'preop_paco2', 'preop_sao2', 'cormack', 'airway', 'tubesize', 'dltubesize', 'lmasize', 'iv1', 'iv2', 'aline1', 'aline2', 'cline1', 'cline2', 'intraop_ebl', 'intraop_uo', 'intraop_rbc', 'intraop_ffp', 'intraop_crystalloid', 'intraop_colloid', 'intraop_ppf', 'intraop_mdz', 'intraop_ftn', 'intraop_rocu', 'intraop_vecu', 'intraop_eph', 'intraop_phe', 'intraop_epi', 'intraop_ca']\n"
     ]
    }
   ],
   "source": [
    "df=pd.read_csv(r\"C:\\Users\\ghild\\OneDrive\\Desktop\\CDAC_PROJECT\\clinical_data.csv\")\n",
    "df.head()\n",
    "\n",
    "#Using list(df) to get the list of all Column Names\n",
    "column_headers = list(df)\n",
    "print(column_headers)"
   ]
  },
  {
   "cell_type": "code",
   "execution_count": 3,
   "id": "4ab68a61",
   "metadata": {},
   "outputs": [
    {
     "name": "stdout",
     "output_type": "stream",
     "text": [
      "(6388, 74)\n"
     ]
    }
   ],
   "source": [
    "#total number of records\n",
    "print(df.shape) #6388"
   ]
  },
  {
   "cell_type": "code",
   "execution_count": 4,
   "id": "e295890e",
   "metadata": {},
   "outputs": [],
   "source": [
    "#as our aim is to assess patient’s individual risk of postoperative mortality based on preoperative data\n",
    "#selecting only relevant columns\n",
    "preop_df=df[['case_id','emop','dx','death_inhosp','adm','icu_days', 'age', 'bmi', 'asa','sex','department','optype','ane_type'\n",
    "       ,'preop_htn', 'preop_dm', 'preop_ecg', 'preop_pft', 'preop_hb',\n",
    "       'preop_plt', 'preop_pt', 'preop_aptt', 'preop_na', 'preop_k',\n",
    "       'preop_gluc', 'preop_alb', 'preop_ast', 'preop_alt', 'preop_bun',\n",
    "       'preop_cr']]"
   ]
  },
  {
   "cell_type": "markdown",
   "id": "ec49d990",
   "metadata": {},
   "source": [
    "# Excluding underage patients  and emergency patients"
   ]
  },
  {
   "cell_type": "code",
   "execution_count": 5,
   "id": "eabc0aa3",
   "metadata": {},
   "outputs": [
    {
     "name": "stdout",
     "output_type": "stream",
     "text": [
      "<class 'pandas.core.frame.DataFrame'>\n",
      "RangeIndex: 6388 entries, 0 to 6387\n",
      "Data columns (total 29 columns):\n",
      " #   Column        Non-Null Count  Dtype  \n",
      "---  ------        --------------  -----  \n",
      " 0   case_id       6388 non-null   int64  \n",
      " 1   emop          6388 non-null   int64  \n",
      " 2   dx            6388 non-null   object \n",
      " 3   death_inhosp  6388 non-null   int64  \n",
      " 4   adm           6388 non-null   int64  \n",
      " 5   icu_days      6388 non-null   int64  \n",
      " 6   age           6388 non-null   object \n",
      " 7   bmi           6388 non-null   float64\n",
      " 8   asa           6255 non-null   float64\n",
      " 9   sex           6388 non-null   object \n",
      " 10  department    6388 non-null   object \n",
      " 11  optype        6388 non-null   object \n",
      " 12  ane_type      6388 non-null   object \n",
      " 13  preop_htn     6388 non-null   int64  \n",
      " 14  preop_dm      6388 non-null   int64  \n",
      " 15  preop_ecg     6388 non-null   object \n",
      " 16  preop_pft     6388 non-null   object \n",
      " 17  preop_hb      6047 non-null   float64\n",
      " 18  preop_plt     6047 non-null   float64\n",
      " 19  preop_pt      5998 non-null   float64\n",
      " 20  preop_aptt    5986 non-null   float64\n",
      " 21  preop_na      5765 non-null   float64\n",
      " 22  preop_k       5767 non-null   float64\n",
      " 23  preop_gluc    6010 non-null   float64\n",
      " 24  preop_alb     6016 non-null   float64\n",
      " 25  preop_ast     6022 non-null   float64\n",
      " 26  preop_alt     6024 non-null   float64\n",
      " 27  preop_bun     6023 non-null   float64\n",
      " 28  preop_cr      6016 non-null   float64\n",
      "dtypes: float64(14), int64(7), object(8)\n",
      "memory usage: 1.4+ MB\n",
      "None\n",
      "0       77\n",
      "1       54\n",
      "2       62\n",
      "3       74\n",
      "4       66\n",
      "        ..\n",
      "6383    64\n",
      "6384    69\n",
      "6385    61\n",
      "6386    24\n",
      "6387    47\n",
      "Name: age, Length: 6388, dtype: object\n"
     ]
    }
   ],
   "source": [
    "\n",
    "print(preop_df.info())\n",
    "\n",
    "pd.set_option('display.max_columns', None)# as age column is not displaying\n",
    "print(preop_df['age'])\n"
   ]
  },
  {
   "cell_type": "code",
   "execution_count": 6,
   "id": "774dc169",
   "metadata": {},
   "outputs": [
    {
     "name": "stdout",
     "output_type": "stream",
     "text": [
      "Found decimal values in the 'age' column:\n",
      "      case_id  emop                            dx  death_inhosp      adm  \\\n",
      "263       264     1         Primary hyperoxaluria             0 -1534620   \n",
      "279       280     0              Biliary atresia              0  -294240   \n",
      "365       366     0                 Hyperoxaluria             0 -4091460   \n",
      "2319     2320     1                Hepatoblastoma             0  -844560   \n",
      "3229     3230     1         Primary hyperoxaluria             1 -2212920   \n",
      "3485     3486     1         Primary hyperoxaluria             1 -3281580   \n",
      "4646     4647     1       Liver transplant status             1 -1450080   \n",
      "4877     4878     1              Biliary atresia              0  -874920   \n",
      "5502     5503     1                 Hyperoxaluria             1 -2056500   \n",
      "6336     6337     1  Hepatic failure without coma             1 -1286520   \n",
      "\n",
      "      icu_days  age   bmi  asa sex       department           optype ane_type  \\\n",
      "263         38  0.7  21.7  4.0   F  General surgery  Transplantation  General   \n",
      "279         15  0.6  31.7  3.0   F  General surgery  Transplantation  General   \n",
      "365         38  0.8  21.7  4.0   F  General surgery           Others  General   \n",
      "2319         6  0.3  14.7  3.0   M  General surgery  Transplantation  General   \n",
      "3229        38  0.7  21.7  4.0   F  General surgery           Others  General   \n",
      "3485        38  0.7  21.7  4.0   F  General surgery  Transplantation  General   \n",
      "4646        17  0.4  16.5  3.0   F  General surgery         Vascular  General   \n",
      "4877        15  0.7  31.7  3.0   F  General surgery           Others  General   \n",
      "5502        38  0.7  21.7  4.0   F  General surgery           Others  General   \n",
      "6336        17  0.4  16.5  3.0   F  General surgery  Transplantation  General   \n",
      "\n",
      "      preop_htn  preop_dm            preop_ecg preop_pft  preop_hb  preop_plt  \\\n",
      "263           0         0  Normal Sinus Rhythm    Normal       6.9       19.0   \n",
      "279           0         0  Normal Sinus Rhythm    Normal       8.5      295.0   \n",
      "365           0         0  Normal Sinus Rhythm    Normal       6.9       19.0   \n",
      "2319          0         0  Normal Sinus Rhythm    Normal       9.3      349.0   \n",
      "3229          0         0  Normal Sinus Rhythm    Normal       6.9       19.0   \n",
      "3485          0         0  Normal Sinus Rhythm    Normal       6.9       19.0   \n",
      "4646          0         0  Normal Sinus Rhythm    Normal       8.5      105.0   \n",
      "4877          0         0  Normal Sinus Rhythm    Normal       8.5      295.0   \n",
      "5502          0         0  Normal Sinus Rhythm    Normal       6.9       19.0   \n",
      "6336          0         0  Normal Sinus Rhythm    Normal       8.5      105.0   \n",
      "\n",
      "      preop_pt  preop_aptt  preop_na  preop_k  preop_gluc  preop_alb  \\\n",
      "263       21.0        63.9     132.0      2.9       111.0        2.6   \n",
      "279       58.0        34.9     138.0      4.5        67.0        3.0   \n",
      "365       21.0        63.9     132.0      2.9       111.0        2.6   \n",
      "2319     103.0        28.1     137.0      4.8       102.0        2.8   \n",
      "3229      21.0        63.9     132.0      2.9       111.0        2.6   \n",
      "3485      21.0        63.9     132.0      2.9       111.0        2.6   \n",
      "4646      24.0       104.7     139.0      3.9        79.0        2.7   \n",
      "4877      58.0        34.9     138.0      4.5        67.0        3.0   \n",
      "5502      21.0        63.9     132.0      2.9        64.0        2.6   \n",
      "6336      24.0       104.7     139.0      3.9        79.0        2.7   \n",
      "\n",
      "      preop_ast  preop_alt  preop_bun  preop_cr  \n",
      "263      1098.0      771.0       34.0      0.27  \n",
      "279        33.0       50.0       24.0      0.10  \n",
      "365      1098.0      771.0       34.0      0.27  \n",
      "2319       24.0        8.0        4.0      0.15  \n",
      "3229     1098.0      771.0        8.0      0.27  \n",
      "3485     1098.0      771.0       34.0      0.27  \n",
      "4646      673.0       94.0        9.0      0.22  \n",
      "4877       33.0       50.0       24.0      0.10  \n",
      "5502     1098.0      771.0       34.0      0.27  \n",
      "6336      673.0       94.0        9.0      0.22  \n",
      "0       77\n",
      "1       54\n",
      "2       62\n",
      "3       74\n",
      "4       66\n",
      "        ..\n",
      "6383    64\n",
      "6384    69\n",
      "6385    61\n",
      "6386    24\n",
      "6387    47\n",
      "Name: age, Length: 6370, dtype: object\n",
      "Number of records  47\n",
      "Number of records  6323\n"
     ]
    }
   ],
   "source": [
    "#as age datatype: object ..we have to convert it into integer for removing records of underage\n",
    "\n",
    "# Identify decimal values in the 'age' column\n",
    "decimal_values = preop_df[preop_df['age'].str.contains('\\.')]\n",
    "\n",
    "# Check if decimal_values is empty\n",
    "if decimal_values.empty:\n",
    "    print(\"No decimal values found in the 'age' column.\")\n",
    "else:\n",
    "    print(\"Found decimal values in the 'age' column:\")\n",
    "    print(decimal_values)\n",
    "    \n",
    "preop_df = preop_df[~preop_df['age'].str.contains('\\.')]\n",
    "# Remove rows with '>89' values in the 'age' column\n",
    "preop_df = preop_df[~preop_df['age'].str.contains('>')]\n",
    "print(preop_df['age'])\n",
    "\n",
    "\n",
    "preop_df['age'] = preop_df['age'].astype('int')\n",
    "#checking underage\n",
    "\n",
    "# Count the number of records of ujnderage patients\n",
    "count_underage = preop_df[preop_df['age'] <18].shape[0]\n",
    "print(\"Number of records \", count_underage)\n",
    "\n",
    "count_valid = preop_df[preop_df['age'] >=18].shape[0]\n",
    "print(\"Number of records \", count_valid)\n"
   ]
  },
  {
   "cell_type": "code",
   "execution_count": 7,
   "id": "dd352a65",
   "metadata": {},
   "outputs": [
    {
     "name": "stdout",
     "output_type": "stream",
     "text": [
      "(6323, 29)\n"
     ]
    }
   ],
   "source": [
    "#remomving underage\n",
    "preop_df=preop_df.loc[(preop_df['age']>=18)]\n",
    "print(preop_df.shape)"
   ]
  },
  {
   "cell_type": "code",
   "execution_count": 8,
   "id": "c5e0ff6f",
   "metadata": {},
   "outputs": [
    {
     "name": "stdout",
     "output_type": "stream",
     "text": [
      "(5567, 29)\n"
     ]
    }
   ],
   "source": [
    "#removing  emergency patients\n",
    "preop_df = preop_df.loc[(preop_df['emop']==0)]\n",
    "print(preop_df.shape)"
   ]
  },
  {
   "cell_type": "code",
   "execution_count": null,
   "id": "ebbae229",
   "metadata": {},
   "outputs": [],
   "source": []
  },
  {
   "cell_type": "code",
   "execution_count": 9,
   "id": "ec57edb5",
   "metadata": {},
   "outputs": [
    {
     "name": "stdout",
     "output_type": "stream",
     "text": [
      "Number of records  0\n",
      "Number of records  0\n"
     ]
    }
   ],
   "source": [
    "# Count the number of records of emergency patients\n",
    "count_emergency = preop_df[preop_df['emop'] == 1].shape[0]\n",
    "print(\"Number of records \", count_emergency)\n",
    "\n",
    "# Count the number of records of ujnderage patients\n",
    "count_underage = preop_df[preop_df['age'] <18].shape[0]\n",
    "print(\"Number of records \", count_underage)"
   ]
  },
  {
   "cell_type": "markdown",
   "id": "cc03b110-9278-437b-8625-3a703680941c",
   "metadata": {},
   "source": [
    "# excluding icu patients and ASA with greater than 5"
   ]
  },
  {
   "cell_type": "code",
   "execution_count": 10,
   "id": "75ecd984",
   "metadata": {},
   "outputs": [
    {
     "name": "stdout",
     "output_type": "stream",
     "text": [
      "Number of records of icu patients 927\n",
      "Number of records of asa >5 11\n"
     ]
    }
   ],
   "source": [
    "#checking how many patients are icu patients\n",
    "count_icu = preop_df[preop_df['icu_days'] > 0].shape[0]\n",
    "print(\"Number of records of icu patients\", count_icu)\n",
    "\n",
    "# Count the number of records of patients with ASA >5\n",
    "count_ASA = preop_df[preop_df['asa'] >5].shape[0]\n",
    "print(\"Number of records of asa >5\", count_ASA)"
   ]
  },
  {
   "cell_type": "code",
   "execution_count": 11,
   "id": "1f005bef",
   "metadata": {},
   "outputs": [
    {
     "name": "stdout",
     "output_type": "stream",
     "text": [
      "(4565, 29)\n"
     ]
    }
   ],
   "source": [
    "final_preop_cases = preop_df.loc[(preop_df['icu_days']==0)&  (preop_df['asa']<5)]\n",
    "print(final_preop_cases.shape)\n"
   ]
  },
  {
   "cell_type": "code",
   "execution_count": 12,
   "id": "e0c2973a-d259-4224-b329-0bd359ce9009",
   "metadata": {},
   "outputs": [
    {
     "name": "stdout",
     "output_type": "stream",
     "text": [
      "Number of records of icu patients 0\n",
      "Number of records of asa >5 0\n"
     ]
    }
   ],
   "source": [
    "#after removing ..again check\n",
    "#checking how many patients are icu patients\n",
    "count_icu = final_preop_cases[final_preop_cases['icu_days'] > 0].shape[0]\n",
    "print(\"Number of records of icu patients\", count_icu)\n",
    "\n",
    "# Count the number of records of patients with ASA >5\n",
    "count_ASA = final_preop_cases[final_preop_cases['asa'] >5].shape[0]\n",
    "print(\"Number of records of asa >5\", count_ASA)"
   ]
  },
  {
   "cell_type": "code",
   "execution_count": 13,
   "id": "ceb8fadf-7e10-45cd-84d2-3a03e1da74bc",
   "metadata": {},
   "outputs": [
    {
     "data": {
      "text/html": [
       "<div>\n",
       "<style scoped>\n",
       "    .dataframe tbody tr th:only-of-type {\n",
       "        vertical-align: middle;\n",
       "    }\n",
       "\n",
       "    .dataframe tbody tr th {\n",
       "        vertical-align: top;\n",
       "    }\n",
       "\n",
       "    .dataframe thead th {\n",
       "        text-align: right;\n",
       "    }\n",
       "</style>\n",
       "<table border=\"1\" class=\"dataframe\">\n",
       "  <thead>\n",
       "    <tr style=\"text-align: right;\">\n",
       "      <th></th>\n",
       "      <th>case_id</th>\n",
       "      <th>emop</th>\n",
       "      <th>death_inhosp</th>\n",
       "      <th>adm</th>\n",
       "      <th>icu_days</th>\n",
       "      <th>age</th>\n",
       "      <th>bmi</th>\n",
       "      <th>asa</th>\n",
       "      <th>preop_htn</th>\n",
       "      <th>preop_dm</th>\n",
       "      <th>preop_hb</th>\n",
       "      <th>preop_plt</th>\n",
       "      <th>preop_pt</th>\n",
       "      <th>preop_aptt</th>\n",
       "      <th>preop_na</th>\n",
       "      <th>preop_k</th>\n",
       "      <th>preop_gluc</th>\n",
       "      <th>preop_alb</th>\n",
       "      <th>preop_ast</th>\n",
       "      <th>preop_alt</th>\n",
       "      <th>preop_bun</th>\n",
       "      <th>preop_cr</th>\n",
       "    </tr>\n",
       "  </thead>\n",
       "  <tbody>\n",
       "    <tr>\n",
       "      <th>count</th>\n",
       "      <td>4565.000000</td>\n",
       "      <td>4565.0</td>\n",
       "      <td>4565.000000</td>\n",
       "      <td>4.565000e+03</td>\n",
       "      <td>4565.0</td>\n",
       "      <td>4565.000000</td>\n",
       "      <td>4565.000000</td>\n",
       "      <td>4565.000000</td>\n",
       "      <td>4565.000000</td>\n",
       "      <td>4565.000000</td>\n",
       "      <td>4431.000000</td>\n",
       "      <td>4429.000000</td>\n",
       "      <td>4392.000000</td>\n",
       "      <td>4382.000000</td>\n",
       "      <td>4232.000000</td>\n",
       "      <td>4233.000000</td>\n",
       "      <td>4405.000000</td>\n",
       "      <td>4419.000000</td>\n",
       "      <td>4423.000000</td>\n",
       "      <td>4422.000000</td>\n",
       "      <td>4419.000000</td>\n",
       "      <td>4420.000000</td>\n",
       "    </tr>\n",
       "    <tr>\n",
       "      <th>mean</th>\n",
       "      <td>3174.696605</td>\n",
       "      <td>0.0</td>\n",
       "      <td>0.003943</td>\n",
       "      <td>-2.305566e+05</td>\n",
       "      <td>0.0</td>\n",
       "      <td>56.658708</td>\n",
       "      <td>23.534414</td>\n",
       "      <td>1.727930</td>\n",
       "      <td>0.292004</td>\n",
       "      <td>0.092881</td>\n",
       "      <td>13.088919</td>\n",
       "      <td>246.273651</td>\n",
       "      <td>102.247040</td>\n",
       "      <td>32.481378</td>\n",
       "      <td>140.344282</td>\n",
       "      <td>4.202599</td>\n",
       "      <td>111.986379</td>\n",
       "      <td>4.156461</td>\n",
       "      <td>23.772779</td>\n",
       "      <td>23.364767</td>\n",
       "      <td>14.978276</td>\n",
       "      <td>0.967373</td>\n",
       "    </tr>\n",
       "    <tr>\n",
       "      <th>std</th>\n",
       "      <td>1835.327483</td>\n",
       "      <td>0.0</td>\n",
       "      <td>0.062677</td>\n",
       "      <td>2.914652e+05</td>\n",
       "      <td>0.0</td>\n",
       "      <td>14.060439</td>\n",
       "      <td>3.515148</td>\n",
       "      <td>0.578631</td>\n",
       "      <td>0.454734</td>\n",
       "      <td>0.290297</td>\n",
       "      <td>1.834903</td>\n",
       "      <td>78.843146</td>\n",
       "      <td>12.630309</td>\n",
       "      <td>3.928839</td>\n",
       "      <td>2.454761</td>\n",
       "      <td>0.376386</td>\n",
       "      <td>36.207688</td>\n",
       "      <td>0.429145</td>\n",
       "      <td>17.734758</td>\n",
       "      <td>25.371266</td>\n",
       "      <td>8.482345</td>\n",
       "      <td>1.229971</td>\n",
       "    </tr>\n",
       "    <tr>\n",
       "      <th>min</th>\n",
       "      <td>1.000000</td>\n",
       "      <td>0.0</td>\n",
       "      <td>0.000000</td>\n",
       "      <td>-4.969620e+06</td>\n",
       "      <td>0.0</td>\n",
       "      <td>18.000000</td>\n",
       "      <td>12.900000</td>\n",
       "      <td>1.000000</td>\n",
       "      <td>0.000000</td>\n",
       "      <td>0.000000</td>\n",
       "      <td>6.100000</td>\n",
       "      <td>5.000000</td>\n",
       "      <td>26.000000</td>\n",
       "      <td>19.200000</td>\n",
       "      <td>119.000000</td>\n",
       "      <td>2.900000</td>\n",
       "      <td>44.000000</td>\n",
       "      <td>0.800000</td>\n",
       "      <td>2.000000</td>\n",
       "      <td>1.000000</td>\n",
       "      <td>3.000000</td>\n",
       "      <td>0.280000</td>\n",
       "    </tr>\n",
       "    <tr>\n",
       "      <th>25%</th>\n",
       "      <td>1604.000000</td>\n",
       "      <td>0.0</td>\n",
       "      <td>0.000000</td>\n",
       "      <td>-2.212200e+05</td>\n",
       "      <td>0.0</td>\n",
       "      <td>47.000000</td>\n",
       "      <td>21.100000</td>\n",
       "      <td>1.000000</td>\n",
       "      <td>0.000000</td>\n",
       "      <td>0.000000</td>\n",
       "      <td>12.000000</td>\n",
       "      <td>197.000000</td>\n",
       "      <td>95.000000</td>\n",
       "      <td>30.100000</td>\n",
       "      <td>139.000000</td>\n",
       "      <td>4.000000</td>\n",
       "      <td>94.000000</td>\n",
       "      <td>3.900000</td>\n",
       "      <td>17.000000</td>\n",
       "      <td>13.000000</td>\n",
       "      <td>11.000000</td>\n",
       "      <td>0.660000</td>\n",
       "    </tr>\n",
       "    <tr>\n",
       "      <th>50%</th>\n",
       "      <td>3158.000000</td>\n",
       "      <td>0.0</td>\n",
       "      <td>0.000000</td>\n",
       "      <td>-2.008800e+05</td>\n",
       "      <td>0.0</td>\n",
       "      <td>58.000000</td>\n",
       "      <td>23.300000</td>\n",
       "      <td>2.000000</td>\n",
       "      <td>0.000000</td>\n",
       "      <td>0.000000</td>\n",
       "      <td>13.200000</td>\n",
       "      <td>238.000000</td>\n",
       "      <td>103.000000</td>\n",
       "      <td>32.100000</td>\n",
       "      <td>141.000000</td>\n",
       "      <td>4.200000</td>\n",
       "      <td>102.000000</td>\n",
       "      <td>4.200000</td>\n",
       "      <td>20.000000</td>\n",
       "      <td>18.000000</td>\n",
       "      <td>14.000000</td>\n",
       "      <td>0.770000</td>\n",
       "    </tr>\n",
       "    <tr>\n",
       "      <th>75%</th>\n",
       "      <td>4763.000000</td>\n",
       "      <td>0.0</td>\n",
       "      <td>0.000000</td>\n",
       "      <td>-1.287000e+05</td>\n",
       "      <td>0.0</td>\n",
       "      <td>67.000000</td>\n",
       "      <td>25.600000</td>\n",
       "      <td>2.000000</td>\n",
       "      <td>1.000000</td>\n",
       "      <td>0.000000</td>\n",
       "      <td>14.300000</td>\n",
       "      <td>285.000000</td>\n",
       "      <td>110.000000</td>\n",
       "      <td>34.300000</td>\n",
       "      <td>142.000000</td>\n",
       "      <td>4.400000</td>\n",
       "      <td>117.000000</td>\n",
       "      <td>4.400000</td>\n",
       "      <td>25.000000</td>\n",
       "      <td>26.000000</td>\n",
       "      <td>17.000000</td>\n",
       "      <td>0.930000</td>\n",
       "    </tr>\n",
       "    <tr>\n",
       "      <th>max</th>\n",
       "      <td>6388.000000</td>\n",
       "      <td>0.0</td>\n",
       "      <td>1.000000</td>\n",
       "      <td>-3.552000e+04</td>\n",
       "      <td>0.0</td>\n",
       "      <td>89.000000</td>\n",
       "      <td>43.200000</td>\n",
       "      <td>4.000000</td>\n",
       "      <td>1.000000</td>\n",
       "      <td>1.000000</td>\n",
       "      <td>19.300000</td>\n",
       "      <td>1156.000000</td>\n",
       "      <td>159.000000</td>\n",
       "      <td>101.300000</td>\n",
       "      <td>148.000000</td>\n",
       "      <td>6.300000</td>\n",
       "      <td>525.000000</td>\n",
       "      <td>5.300000</td>\n",
       "      <td>528.000000</td>\n",
       "      <td>767.000000</td>\n",
       "      <td>127.000000</td>\n",
       "      <td>20.730000</td>\n",
       "    </tr>\n",
       "  </tbody>\n",
       "</table>\n",
       "</div>"
      ],
      "text/plain": [
       "           case_id    emop  death_inhosp           adm  icu_days          age  \\\n",
       "count  4565.000000  4565.0   4565.000000  4.565000e+03    4565.0  4565.000000   \n",
       "mean   3174.696605     0.0      0.003943 -2.305566e+05       0.0    56.658708   \n",
       "std    1835.327483     0.0      0.062677  2.914652e+05       0.0    14.060439   \n",
       "min       1.000000     0.0      0.000000 -4.969620e+06       0.0    18.000000   \n",
       "25%    1604.000000     0.0      0.000000 -2.212200e+05       0.0    47.000000   \n",
       "50%    3158.000000     0.0      0.000000 -2.008800e+05       0.0    58.000000   \n",
       "75%    4763.000000     0.0      0.000000 -1.287000e+05       0.0    67.000000   \n",
       "max    6388.000000     0.0      1.000000 -3.552000e+04       0.0    89.000000   \n",
       "\n",
       "               bmi          asa    preop_htn     preop_dm     preop_hb  \\\n",
       "count  4565.000000  4565.000000  4565.000000  4565.000000  4431.000000   \n",
       "mean     23.534414     1.727930     0.292004     0.092881    13.088919   \n",
       "std       3.515148     0.578631     0.454734     0.290297     1.834903   \n",
       "min      12.900000     1.000000     0.000000     0.000000     6.100000   \n",
       "25%      21.100000     1.000000     0.000000     0.000000    12.000000   \n",
       "50%      23.300000     2.000000     0.000000     0.000000    13.200000   \n",
       "75%      25.600000     2.000000     1.000000     0.000000    14.300000   \n",
       "max      43.200000     4.000000     1.000000     1.000000    19.300000   \n",
       "\n",
       "         preop_plt     preop_pt   preop_aptt     preop_na      preop_k  \\\n",
       "count  4429.000000  4392.000000  4382.000000  4232.000000  4233.000000   \n",
       "mean    246.273651   102.247040    32.481378   140.344282     4.202599   \n",
       "std      78.843146    12.630309     3.928839     2.454761     0.376386   \n",
       "min       5.000000    26.000000    19.200000   119.000000     2.900000   \n",
       "25%     197.000000    95.000000    30.100000   139.000000     4.000000   \n",
       "50%     238.000000   103.000000    32.100000   141.000000     4.200000   \n",
       "75%     285.000000   110.000000    34.300000   142.000000     4.400000   \n",
       "max    1156.000000   159.000000   101.300000   148.000000     6.300000   \n",
       "\n",
       "        preop_gluc    preop_alb    preop_ast    preop_alt    preop_bun  \\\n",
       "count  4405.000000  4419.000000  4423.000000  4422.000000  4419.000000   \n",
       "mean    111.986379     4.156461    23.772779    23.364767    14.978276   \n",
       "std      36.207688     0.429145    17.734758    25.371266     8.482345   \n",
       "min      44.000000     0.800000     2.000000     1.000000     3.000000   \n",
       "25%      94.000000     3.900000    17.000000    13.000000    11.000000   \n",
       "50%     102.000000     4.200000    20.000000    18.000000    14.000000   \n",
       "75%     117.000000     4.400000    25.000000    26.000000    17.000000   \n",
       "max     525.000000     5.300000   528.000000   767.000000   127.000000   \n",
       "\n",
       "          preop_cr  \n",
       "count  4420.000000  \n",
       "mean      0.967373  \n",
       "std       1.229971  \n",
       "min       0.280000  \n",
       "25%       0.660000  \n",
       "50%       0.770000  \n",
       "75%       0.930000  \n",
       "max      20.730000  "
      ]
     },
     "execution_count": 13,
     "metadata": {},
     "output_type": "execute_result"
    }
   ],
   "source": [
    "final_preop_cases.describe()"
   ]
  },
  {
   "cell_type": "code",
   "execution_count": 14,
   "id": "fa6a647d",
   "metadata": {},
   "outputs": [],
   "source": [
    "\n",
    "final_preop_cases=final_preop_cases.drop(['emop', 'icu_days','dx','adm'], axis=1)"
   ]
  },
  {
   "cell_type": "code",
   "execution_count": 15,
   "id": "33312698",
   "metadata": {
    "scrolled": true
   },
   "outputs": [
    {
     "name": "stdout",
     "output_type": "stream",
     "text": [
      "Requirement already satisfied: missingno in c:\\users\\ghild\\anaconda3\\lib\\site-packages (0.5.2)\n",
      "Requirement already satisfied: matplotlib in c:\\users\\ghild\\anaconda3\\lib\\site-packages (from missingno) (3.5.1)\n",
      "Requirement already satisfied: scipy in c:\\users\\ghild\\anaconda3\\lib\\site-packages (from missingno) (1.7.3)\n",
      "Requirement already satisfied: seaborn in c:\\users\\ghild\\anaconda3\\lib\\site-packages (from missingno) (0.11.2)\n",
      "Requirement already satisfied: numpy in c:\\users\\ghild\\anaconda3\\lib\\site-packages (from missingno) (1.22.4)\n",
      "Requirement already satisfied: kiwisolver>=1.0.1 in c:\\users\\ghild\\anaconda3\\lib\\site-packages (from matplotlib->missingno) (1.3.2)\n",
      "Requirement already satisfied: cycler>=0.10 in c:\\users\\ghild\\anaconda3\\lib\\site-packages (from matplotlib->missingno) (0.11.0)\n",
      "Requirement already satisfied: packaging>=20.0 in c:\\users\\ghild\\anaconda3\\lib\\site-packages (from matplotlib->missingno) (21.3)\n",
      "Requirement already satisfied: pillow>=6.2.0 in c:\\users\\ghild\\anaconda3\\lib\\site-packages (from matplotlib->missingno) (9.0.1)\n",
      "Requirement already satisfied: python-dateutil>=2.7 in c:\\users\\ghild\\anaconda3\\lib\\site-packages (from matplotlib->missingno) (2.8.2)\n",
      "Requirement already satisfied: pyparsing>=2.2.1 in c:\\users\\ghild\\anaconda3\\lib\\site-packages (from matplotlib->missingno) (3.0.4)\n",
      "Requirement already satisfied: fonttools>=4.22.0 in c:\\users\\ghild\\anaconda3\\lib\\site-packages (from matplotlib->missingno) (4.25.0)\n",
      "Requirement already satisfied: six>=1.5 in c:\\users\\ghild\\anaconda3\\lib\\site-packages (from python-dateutil>=2.7->matplotlib->missingno) (1.16.0)\n",
      "Requirement already satisfied: pandas>=0.23 in c:\\users\\ghild\\anaconda3\\lib\\site-packages (from seaborn->missingno) (1.4.2)\n",
      "Requirement already satisfied: pytz>=2020.1 in c:\\users\\ghild\\anaconda3\\lib\\site-packages (from pandas>=0.23->seaborn->missingno) (2021.3)\n",
      "Note: you may need to restart the kernel to use updated packages.\n"
     ]
    }
   ],
   "source": [
    "pip install missingno"
   ]
  },
  {
   "cell_type": "markdown",
   "id": "4b649cfe",
   "metadata": {},
   "source": [
    "# Checking missing data in the dataframe"
   ]
  },
  {
   "cell_type": "code",
   "execution_count": 16,
   "id": "cde8f3c0",
   "metadata": {},
   "outputs": [
    {
     "data": {
      "text/plain": [
       "<AxesSubplot:>"
      ]
     },
     "execution_count": 16,
     "metadata": {},
     "output_type": "execute_result"
    },
    {
     "data": {
      "image/png": "[encoded data removed]",
      "text/plain": [
       "<Figure size 2500x1000 with 2 Axes>"
      ]
     },
     "metadata": {},
     "output_type": "display_data"
    }
   ],
   "source": [
    "\n",
    "#it has been noticed that data has been missing from any column in the data.\n",
    "\n",
    "import missingno\n",
    "\n",
    "missingno.matrix(final_preop_cases)"
   ]
  },
  {
   "cell_type": "code",
   "execution_count": 17,
   "id": "70216784",
   "metadata": {},
   "outputs": [
    {
     "name": "stdout",
     "output_type": "stream",
     "text": [
      "(4565, 25)\n"
     ]
    },
    {
     "data": {
      "text/plain": [
       "case_id           0\n",
       "death_inhosp      0\n",
       "age               0\n",
       "bmi               0\n",
       "asa               0\n",
       "sex               0\n",
       "department        0\n",
       "optype            0\n",
       "ane_type          0\n",
       "preop_htn         0\n",
       "preop_dm          0\n",
       "preop_ecg         0\n",
       "preop_pft         0\n",
       "preop_hb        134\n",
       "preop_plt       136\n",
       "preop_pt        173\n",
       "preop_aptt      183\n",
       "preop_na        333\n",
       "preop_k         332\n",
       "preop_gluc      160\n",
       "preop_alb       146\n",
       "preop_ast       142\n",
       "preop_alt       143\n",
       "preop_bun       146\n",
       "preop_cr        145\n",
       "dtype: int64"
      ]
     },
     "execution_count": 17,
     "metadata": {},
     "output_type": "execute_result"
    }
   ],
   "source": [
    "print(final_preop_cases.shape)\n",
    "final_preop_cases.isnull().sum()"
   ]
  },
  {
   "cell_type": "code",
   "execution_count": 18,
   "id": "a9a73c30",
   "metadata": {},
   "outputs": [],
   "source": [
    "columns_to_impute_mean= ['preop_plt','preop_hb', 'preop_k']\n",
    "final_preop_cases[columns_to_impute_mean] = final_preop_cases[columns_to_impute_mean].fillna(df[columns_to_impute_mean].mean())\n",
    "final_preop_cases[columns_to_impute_mean]=final_preop_cases[columns_to_impute_mean].round(2)\n"
   ]
  },
  {
   "cell_type": "code",
   "execution_count": 19,
   "id": "e040b869",
   "metadata": {},
   "outputs": [],
   "source": [
    "columns_to_impute_median = [ \n",
    "       'preop_pt', 'preop_na','preop_gluc', 'preop_ast', 'preop_alt', 'preop_bun','preop_aptt','preop_alb','preop_cr']\n",
    "\n",
    "final_preop_cases[columns_to_impute_median] = final_preop_cases[columns_to_impute_median].fillna(df[columns_to_impute_median].median().round(2))\n",
    "final_preop_cases[columns_to_impute_median]=final_preop_cases[columns_to_impute_median].round(2)\n",
    "\n"
   ]
  },
  {
   "cell_type": "code",
   "execution_count": 20,
   "id": "216c8c9e",
   "metadata": {},
   "outputs": [
    {
     "data": {
      "text/plain": [
       "case_id         0\n",
       "death_inhosp    0\n",
       "age             0\n",
       "bmi             0\n",
       "asa             0\n",
       "sex             0\n",
       "department      0\n",
       "optype          0\n",
       "ane_type        0\n",
       "preop_htn       0\n",
       "preop_dm        0\n",
       "preop_ecg       0\n",
       "preop_pft       0\n",
       "preop_hb        0\n",
       "preop_plt       0\n",
       "preop_pt        0\n",
       "preop_aptt      0\n",
       "preop_na        0\n",
       "preop_k         0\n",
       "preop_gluc      0\n",
       "preop_alb       0\n",
       "preop_ast       0\n",
       "preop_alt       0\n",
       "preop_bun       0\n",
       "preop_cr        0\n",
       "dtype: int64"
      ]
     },
     "execution_count": 20,
     "metadata": {},
     "output_type": "execute_result"
    }
   ],
   "source": [
    "final_preop_cases.isnull().sum()"
   ]
  },
  {
   "cell_type": "code",
   "execution_count": 21,
   "id": "d38a4b3f",
   "metadata": {},
   "outputs": [
    {
     "data": {
      "text/plain": [
       "<AxesSubplot:>"
      ]
     },
     "execution_count": 21,
     "metadata": {},
     "output_type": "execute_result"
    },
    {
     "data": {
      "image/png": "[encoded data removed]",
      "text/plain": [
       "<Figure size 2500x1000 with 2 Axes>"
      ]
     },
     "metadata": {},
     "output_type": "display_data"
    }
   ],
   "source": [
    "missingno.matrix(final_preop_cases)"
   ]
  },
  {
   "cell_type": "code",
   "execution_count": 22,
   "id": "4500e813",
   "metadata": {},
   "outputs": [
    {
     "name": "stdout",
     "output_type": "stream",
     "text": [
      "Unique Values in 'Gender' ['M', 'F']\n",
      "Unique Values in 'ASA' [2.0, 1.0, 3.0, 4.0]\n",
      "Unique Values in 'diabetes' [0, 1]\n",
      "Unique Values in 'hypertension' [1, 0]\n",
      "Unique Values in 'anaesthesia type' ['General', 'Spinal', 'Sedationalgesia']\n",
      "Unique Values in 'department type' ['General surgery', 'Urology', 'Thoracic surgery', 'Gynecology']\n",
      "Unique Values in 'operation  type' ['Colorectal', 'Stomach', 'Biliary/Pancreas', 'Breast', 'Minor resection', 'Hepatic', 'Thyroid', 'Major resection', 'Transplantation', 'Others', 'Vascular']\n"
     ]
    }
   ],
   "source": [
    "#checking unique values\n",
    "print(\"Unique Values in 'Gender'\", list(final_preop_cases.sex.unique()))\n",
    "print(\"Unique Values in 'ASA'\", list(final_preop_cases.asa.unique()))\n",
    "print(\"Unique Values in 'diabetes'\", list(final_preop_cases.preop_dm.unique()))\n",
    "print(\"Unique Values in 'hypertension'\", list(final_preop_cases.preop_htn.unique()))\n",
    "print(\"Unique Values in 'anaesthesia type'\", list(final_preop_cases.ane_type.unique()))\n",
    "print(\"Unique Values in 'department type'\", list(final_preop_cases.department.unique()))\n",
    "print(\"Unique Values in 'operation  type'\", list(final_preop_cases.optype.unique()))\n",
    "\n"
   ]
  },
  {
   "cell_type": "code",
   "execution_count": 23,
   "id": "2734587c",
   "metadata": {},
   "outputs": [
    {
     "data": {
      "text/plain": [
       "(array([3752.,    0.,    0.,  112.,    0.,    0.,  515.,    0.,    0.,\n",
       "         186.]),\n",
       " array([0. , 0.3, 0.6, 0.9, 1.2, 1.5, 1.8, 2.1, 2.4, 2.7, 3. ]),\n",
       " <BarContainer object of 10 artists>)"
      ]
     },
     "execution_count": 23,
     "metadata": {},
     "output_type": "execute_result"
    },
    {
     "data": {
      "image/png": "[encoded data removed]",
      "text/plain": [
       "<Figure size 640x480 with 1 Axes>"
      ]
     },
     "metadata": {},
     "output_type": "display_data"
    }
   ],
   "source": [
    "plt.hist(final_preop_cases['department'])"
   ]
  },
  {
   "cell_type": "code",
   "execution_count": 24,
   "id": "949ae022",
   "metadata": {},
   "outputs": [
    {
     "data": {
      "text/plain": [
       "(array([2159.,    0.,    0.,    0.,    0.,    0.,    0.,    0.,    0.,\n",
       "        2406.]),\n",
       " array([0. , 0.1, 0.2, 0.3, 0.4, 0.5, 0.6, 0.7, 0.8, 0.9, 1. ]),\n",
       " <BarContainer object of 10 artists>)"
      ]
     },
     "execution_count": 24,
     "metadata": {},
     "output_type": "execute_result"
    },
    {
     "data": {
      "image/png": "[encoded data removed]",
      "text/plain": [
       "<Figure size 640x480 with 1 Axes>"
      ]
     },
     "metadata": {},
     "output_type": "display_data"
    }
   ],
   "source": [
    "plt.hist(final_preop_cases['sex'])"
   ]
  },
  {
   "cell_type": "code",
   "execution_count": 25,
   "id": "2d0ebcfd",
   "metadata": {
    "scrolled": true
   },
   "outputs": [
    {
     "data": {
      "text/plain": [
       "(array([4315.,    0.,    0.,    0.,    0.,  208.,    0.,    0.,    0.,\n",
       "          42.]),\n",
       " array([0. , 0.2, 0.4, 0.6, 0.8, 1. , 1.2, 1.4, 1.6, 1.8, 2. ]),\n",
       " <BarContainer object of 10 artists>)"
      ]
     },
     "execution_count": 25,
     "metadata": {},
     "output_type": "execute_result"
    },
    {
     "data": {
      "image/png": "[encoded data removed]",
      "text/plain": [
       "<Figure size 640x480 with 1 Axes>"
      ]
     },
     "metadata": {},
     "output_type": "display_data"
    }
   ],
   "source": [
    "plt.hist(final_preop_cases['ane_type'])\n"
   ]
  },
  {
   "cell_type": "code",
   "execution_count": 26,
   "id": "080baa34",
   "metadata": {},
   "outputs": [
    {
     "data": {
      "text/plain": [
       "<AxesSubplot:ylabel='Density'>"
      ]
     },
     "execution_count": 26,
     "metadata": {},
     "output_type": "execute_result"
    },
    {
     "data": {
      "image/png": "[encoded data removed]",
      "text/plain": [
       "<Figure size 500x500 with 1 Axes>"
      ]
     },
     "metadata": {},
     "output_type": "display_data"
    }
   ],
   "source": [
    "plt.figure(figsize=(5,5))\n",
    "final_preop_cases['preop_hb'].plot(kind='density')"
   ]
  },
  {
   "cell_type": "code",
   "execution_count": 27,
   "id": "4d9e706a",
   "metadata": {},
   "outputs": [
    {
     "data": {
      "text/plain": [
       "<AxesSubplot:ylabel='Density'>"
      ]
     },
     "execution_count": 27,
     "metadata": {},
     "output_type": "execute_result"
    },
    {
     "data": {
      "image/png": "[encoded data removed]",
      "text/plain": [
       "<Figure size 500x500 with 1 Axes>"
      ]
     },
     "metadata": {},
     "output_type": "display_data"
    }
   ],
   "source": [
    "plt.figure(figsize=(5,5))\n",
    "final_preop_cases['preop_na'].plot(kind='density')"
   ]
  },
  {
   "cell_type": "code",
   "execution_count": 28,
   "id": "2918e25b",
   "metadata": {},
   "outputs": [
    {
     "name": "stdout",
     "output_type": "stream",
     "text": [
      "Categorical Variables:\n",
      "Index(['sex', 'department', 'optype', 'ane_type', 'preop_ecg', 'preop_pft'], dtype='object')\n",
      "Numerical Variables:\n",
      "['case_id', 'death_inhosp', 'age', 'bmi', 'asa', 'preop_htn', 'preop_dm', 'preop_hb', 'preop_plt', 'preop_pt', 'preop_aptt', 'preop_na', 'preop_k', 'preop_gluc', 'preop_alb', 'preop_ast', 'preop_alt', 'preop_bun', 'preop_cr']\n"
     ]
    }
   ],
   "source": [
    "# to all numeric\n",
    "cat_cols=final_preop_cases.select_dtypes(include=['object']).columns\n",
    "num_cols = final_preop_cases.select_dtypes(include=np.number).columns.tolist()\n",
    "print(\"Categorical Variables:\")\n",
    "print(cat_cols)\n",
    "print(\"Numerical Variables:\")\n",
    "print(num_cols)\n",
    "\n"
   ]
  },
  {
   "cell_type": "markdown",
   "id": "1a0a2bf1",
   "metadata": {},
   "source": [
    "# label encoding"
   ]
  },
  {
   "cell_type": "code",
   "execution_count": 29,
   "id": "946fd198",
   "metadata": {
    "scrolled": true
   },
   "outputs": [
    {
     "data": {
      "text/html": [
       "<div>\n",
       "<style scoped>\n",
       "    .dataframe tbody tr th:only-of-type {\n",
       "        vertical-align: middle;\n",
       "    }\n",
       "\n",
       "    .dataframe tbody tr th {\n",
       "        vertical-align: top;\n",
       "    }\n",
       "\n",
       "    .dataframe thead th {\n",
       "        text-align: right;\n",
       "    }\n",
       "</style>\n",
       "<table border=\"1\" class=\"dataframe\">\n",
       "  <thead>\n",
       "    <tr style=\"text-align: right;\">\n",
       "      <th></th>\n",
       "      <th>case_id</th>\n",
       "      <th>death_inhosp</th>\n",
       "      <th>age</th>\n",
       "      <th>bmi</th>\n",
       "      <th>asa</th>\n",
       "      <th>sex</th>\n",
       "      <th>department</th>\n",
       "      <th>optype</th>\n",
       "      <th>ane_type</th>\n",
       "      <th>preop_htn</th>\n",
       "      <th>preop_dm</th>\n",
       "      <th>preop_ecg</th>\n",
       "      <th>preop_pft</th>\n",
       "      <th>preop_hb</th>\n",
       "      <th>preop_plt</th>\n",
       "      <th>preop_pt</th>\n",
       "      <th>preop_aptt</th>\n",
       "      <th>preop_na</th>\n",
       "      <th>preop_k</th>\n",
       "      <th>preop_gluc</th>\n",
       "      <th>preop_alb</th>\n",
       "      <th>preop_ast</th>\n",
       "      <th>preop_alt</th>\n",
       "      <th>preop_bun</th>\n",
       "      <th>preop_cr</th>\n",
       "    </tr>\n",
       "  </thead>\n",
       "  <tbody>\n",
       "    <tr>\n",
       "      <th>0</th>\n",
       "      <td>1</td>\n",
       "      <td>0</td>\n",
       "      <td>77</td>\n",
       "      <td>26.3</td>\n",
       "      <td>2.0</td>\n",
       "      <td>1</td>\n",
       "      <td>0</td>\n",
       "      <td>2</td>\n",
       "      <td>0</td>\n",
       "      <td>1</td>\n",
       "      <td>0</td>\n",
       "      <td>10</td>\n",
       "      <td>6</td>\n",
       "      <td>14.1</td>\n",
       "      <td>189.0</td>\n",
       "      <td>94.0</td>\n",
       "      <td>33.2</td>\n",
       "      <td>141.0</td>\n",
       "      <td>3.1</td>\n",
       "      <td>134.0</td>\n",
       "      <td>4.3</td>\n",
       "      <td>18.0</td>\n",
       "      <td>16.0</td>\n",
       "      <td>10.0</td>\n",
       "      <td>0.82</td>\n",
       "    </tr>\n",
       "    <tr>\n",
       "      <th>1</th>\n",
       "      <td>2</td>\n",
       "      <td>0</td>\n",
       "      <td>54</td>\n",
       "      <td>19.6</td>\n",
       "      <td>2.0</td>\n",
       "      <td>1</td>\n",
       "      <td>0</td>\n",
       "      <td>7</td>\n",
       "      <td>0</td>\n",
       "      <td>0</td>\n",
       "      <td>0</td>\n",
       "      <td>10</td>\n",
       "      <td>6</td>\n",
       "      <td>10.2</td>\n",
       "      <td>251.0</td>\n",
       "      <td>110.0</td>\n",
       "      <td>31.9</td>\n",
       "      <td>143.0</td>\n",
       "      <td>4.7</td>\n",
       "      <td>88.0</td>\n",
       "      <td>3.8</td>\n",
       "      <td>18.0</td>\n",
       "      <td>15.0</td>\n",
       "      <td>14.0</td>\n",
       "      <td>0.86</td>\n",
       "    </tr>\n",
       "    <tr>\n",
       "      <th>2</th>\n",
       "      <td>3</td>\n",
       "      <td>0</td>\n",
       "      <td>62</td>\n",
       "      <td>24.4</td>\n",
       "      <td>1.0</td>\n",
       "      <td>1</td>\n",
       "      <td>0</td>\n",
       "      <td>0</td>\n",
       "      <td>0</td>\n",
       "      <td>0</td>\n",
       "      <td>0</td>\n",
       "      <td>10</td>\n",
       "      <td>6</td>\n",
       "      <td>14.2</td>\n",
       "      <td>373.0</td>\n",
       "      <td>103.0</td>\n",
       "      <td>30.3</td>\n",
       "      <td>144.0</td>\n",
       "      <td>4.9</td>\n",
       "      <td>87.0</td>\n",
       "      <td>4.2</td>\n",
       "      <td>17.0</td>\n",
       "      <td>34.0</td>\n",
       "      <td>14.0</td>\n",
       "      <td>1.18</td>\n",
       "    </tr>\n",
       "    <tr>\n",
       "      <th>7</th>\n",
       "      <td>8</td>\n",
       "      <td>0</td>\n",
       "      <td>81</td>\n",
       "      <td>27.4</td>\n",
       "      <td>2.0</td>\n",
       "      <td>0</td>\n",
       "      <td>0</td>\n",
       "      <td>1</td>\n",
       "      <td>0</td>\n",
       "      <td>0</td>\n",
       "      <td>0</td>\n",
       "      <td>10</td>\n",
       "      <td>6</td>\n",
       "      <td>12.1</td>\n",
       "      <td>186.0</td>\n",
       "      <td>92.0</td>\n",
       "      <td>31.3</td>\n",
       "      <td>142.0</td>\n",
       "      <td>4.5</td>\n",
       "      <td>101.0</td>\n",
       "      <td>3.7</td>\n",
       "      <td>16.0</td>\n",
       "      <td>10.0</td>\n",
       "      <td>11.0</td>\n",
       "      <td>0.69</td>\n",
       "    </tr>\n",
       "    <tr>\n",
       "      <th>8</th>\n",
       "      <td>9</td>\n",
       "      <td>0</td>\n",
       "      <td>32</td>\n",
       "      <td>20.4</td>\n",
       "      <td>1.0</td>\n",
       "      <td>0</td>\n",
       "      <td>0</td>\n",
       "      <td>0</td>\n",
       "      <td>0</td>\n",
       "      <td>0</td>\n",
       "      <td>0</td>\n",
       "      <td>10</td>\n",
       "      <td>6</td>\n",
       "      <td>13.7</td>\n",
       "      <td>141.0</td>\n",
       "      <td>96.0</td>\n",
       "      <td>32.1</td>\n",
       "      <td>140.0</td>\n",
       "      <td>4.2</td>\n",
       "      <td>91.0</td>\n",
       "      <td>4.5</td>\n",
       "      <td>14.0</td>\n",
       "      <td>11.0</td>\n",
       "      <td>8.0</td>\n",
       "      <td>0.58</td>\n",
       "    </tr>\n",
       "  </tbody>\n",
       "</table>\n",
       "</div>"
      ],
      "text/plain": [
       "   case_id  death_inhosp  age   bmi  asa  sex  department  optype  ane_type  \\\n",
       "0        1             0   77  26.3  2.0    1           0       2         0   \n",
       "1        2             0   54  19.6  2.0    1           0       7         0   \n",
       "2        3             0   62  24.4  1.0    1           0       0         0   \n",
       "7        8             0   81  27.4  2.0    0           0       1         0   \n",
       "8        9             0   32  20.4  1.0    0           0       0         0   \n",
       "\n",
       "   preop_htn  preop_dm  preop_ecg  preop_pft  preop_hb  preop_plt  preop_pt  \\\n",
       "0          1         0         10          6      14.1      189.0      94.0   \n",
       "1          0         0         10          6      10.2      251.0     110.0   \n",
       "2          0         0         10          6      14.2      373.0     103.0   \n",
       "7          0         0         10          6      12.1      186.0      92.0   \n",
       "8          0         0         10          6      13.7      141.0      96.0   \n",
       "\n",
       "   preop_aptt  preop_na  preop_k  preop_gluc  preop_alb  preop_ast  preop_alt  \\\n",
       "0        33.2     141.0      3.1       134.0        4.3       18.0       16.0   \n",
       "1        31.9     143.0      4.7        88.0        3.8       18.0       15.0   \n",
       "2        30.3     144.0      4.9        87.0        4.2       17.0       34.0   \n",
       "7        31.3     142.0      4.5       101.0        3.7       16.0       10.0   \n",
       "8        32.1     140.0      4.2        91.0        4.5       14.0       11.0   \n",
       "\n",
       "   preop_bun  preop_cr  \n",
       "0       10.0      0.82  \n",
       "1       14.0      0.86  \n",
       "2       14.0      1.18  \n",
       "7       11.0      0.69  \n",
       "8        8.0      0.58  "
      ]
     },
     "execution_count": 29,
     "metadata": {},
     "output_type": "execute_result"
    }
   ],
   "source": [
    "cols = ['sex', 'department', 'optype', 'ane_type', 'preop_ecg', 'preop_pft']\n",
    "#\n",
    "# Encode labels of multiple columns at once\n",
    "#\n",
    "final_preop_cases[cols] = final_preop_cases[cols].apply(LabelEncoder().fit_transform)\n",
    "#\n",
    "# Print head\n",
    "#\n",
    "final_preop_cases.head()\n",
    "\n"
   ]
  },
  {
   "cell_type": "code",
   "execution_count": 30,
   "id": "d81323b2",
   "metadata": {},
   "outputs": [
    {
     "name": "stdout",
     "output_type": "stream",
     "text": [
      "<class 'pandas.core.frame.DataFrame'>\n",
      "Int64Index: 4565 entries, 0 to 6387\n",
      "Data columns (total 25 columns):\n",
      " #   Column        Non-Null Count  Dtype  \n",
      "---  ------        --------------  -----  \n",
      " 0   case_id       4565 non-null   int64  \n",
      " 1   death_inhosp  4565 non-null   int64  \n",
      " 2   age           4565 non-null   int32  \n",
      " 3   bmi           4565 non-null   float64\n",
      " 4   asa           4565 non-null   float64\n",
      " 5   sex           4565 non-null   int32  \n",
      " 6   department    4565 non-null   int32  \n",
      " 7   optype        4565 non-null   int32  \n",
      " 8   ane_type      4565 non-null   int32  \n",
      " 9   preop_htn     4565 non-null   int64  \n",
      " 10  preop_dm      4565 non-null   int64  \n",
      " 11  preop_ecg     4565 non-null   int32  \n",
      " 12  preop_pft     4565 non-null   int32  \n",
      " 13  preop_hb      4565 non-null   float64\n",
      " 14  preop_plt     4565 non-null   float64\n",
      " 15  preop_pt      4565 non-null   float64\n",
      " 16  preop_aptt    4565 non-null   float64\n",
      " 17  preop_na      4565 non-null   float64\n",
      " 18  preop_k       4565 non-null   float64\n",
      " 19  preop_gluc    4565 non-null   float64\n",
      " 20  preop_alb     4565 non-null   float64\n",
      " 21  preop_ast     4565 non-null   float64\n",
      " 22  preop_alt     4565 non-null   float64\n",
      " 23  preop_bun     4565 non-null   float64\n",
      " 24  preop_cr      4565 non-null   float64\n",
      "dtypes: float64(14), int32(7), int64(4)\n",
      "memory usage: 802.4 KB\n",
      "None\n"
     ]
    }
   ],
   "source": [
    "print(final_preop_cases.info())"
   ]
  },
  {
   "cell_type": "code",
   "execution_count": 31,
   "id": "5c43b24c",
   "metadata": {},
   "outputs": [],
   "source": [
    "final_preop_cases['asa'] = final_preop_cases['asa'].astype(int)  # cast data type to int\n"
   ]
  },
  {
   "cell_type": "code",
   "execution_count": 32,
   "id": "20c86a54",
   "metadata": {},
   "outputs": [],
   "source": [
    "final_preop_cases[['preop_hb', 'preop_plt', 'preop_pt', \n",
    "                   'preop_aptt', 'preop_na', 'preop_k', \n",
    "                   'preop_gluc', 'preop_alb', 'preop_ast', 'preop_alt', \n",
    "                   'preop_bun', 'preop_cr','bmi']] = final_preop_cases[['preop_hb', 'preop_plt', 'preop_pt', \n",
    "                   'preop_aptt', 'preop_na', 'preop_k', \n",
    "                   'preop_gluc', 'preop_alb', 'preop_ast', 'preop_alt', \n",
    "                   'preop_bun', 'preop_cr','bmi']].round(3)"
   ]
  },
  {
   "cell_type": "code",
   "execution_count": 33,
   "id": "14b5ee07",
   "metadata": {},
   "outputs": [
    {
     "name": "stdout",
     "output_type": "stream",
     "text": [
      "      preop_hb  preop_cr\n",
      "0         14.1      0.82\n",
      "1         10.2      0.86\n",
      "2         14.2      1.18\n",
      "7         12.1      0.69\n",
      "8         13.7      0.58\n",
      "...        ...       ...\n",
      "6383      14.5      0.99\n",
      "6384      15.2      0.84\n",
      "6385      12.6      0.66\n",
      "6386      12.5      0.65\n",
      "6387       8.6      0.64\n",
      "\n",
      "[4565 rows x 2 columns]\n"
     ]
    }
   ],
   "source": [
    "print(final_preop_cases[['preop_hb','preop_cr']])"
   ]
  },
  {
   "cell_type": "code",
   "execution_count": 34,
   "id": "15fb1c4a",
   "metadata": {},
   "outputs": [
    {
     "name": "stdout",
     "output_type": "stream",
     "text": [
      "<class 'pandas.core.frame.DataFrame'>\n",
      "Int64Index: 4565 entries, 0 to 6387\n",
      "Data columns (total 25 columns):\n",
      " #   Column        Non-Null Count  Dtype  \n",
      "---  ------        --------------  -----  \n",
      " 0   case_id       4565 non-null   int64  \n",
      " 1   death_inhosp  4565 non-null   int64  \n",
      " 2   age           4565 non-null   int32  \n",
      " 3   bmi           4565 non-null   float64\n",
      " 4   asa           4565 non-null   int32  \n",
      " 5   sex           4565 non-null   int32  \n",
      " 6   department    4565 non-null   int32  \n",
      " 7   optype        4565 non-null   int32  \n",
      " 8   ane_type      4565 non-null   int32  \n",
      " 9   preop_htn     4565 non-null   int64  \n",
      " 10  preop_dm      4565 non-null   int64  \n",
      " 11  preop_ecg     4565 non-null   int32  \n",
      " 12  preop_pft     4565 non-null   int32  \n",
      " 13  preop_hb      4565 non-null   float64\n",
      " 14  preop_plt     4565 non-null   float64\n",
      " 15  preop_pt      4565 non-null   float64\n",
      " 16  preop_aptt    4565 non-null   float64\n",
      " 17  preop_na      4565 non-null   float64\n",
      " 18  preop_k       4565 non-null   float64\n",
      " 19  preop_gluc    4565 non-null   float64\n",
      " 20  preop_alb     4565 non-null   float64\n",
      " 21  preop_ast     4565 non-null   float64\n",
      " 22  preop_alt     4565 non-null   float64\n",
      " 23  preop_bun     4565 non-null   float64\n",
      " 24  preop_cr      4565 non-null   float64\n",
      "dtypes: float64(13), int32(8), int64(4)\n",
      "memory usage: 784.6 KB\n"
     ]
    }
   ],
   "source": [
    "final_preop_cases.info()"
   ]
  },
  {
   "cell_type": "code",
   "execution_count": 35,
   "id": "e0b2ebdc",
   "metadata": {},
   "outputs": [
    {
     "data": {
      "text/plain": [
       "0    4547\n",
       "1      18\n",
       "Name: death_inhosp, dtype: int64"
      ]
     },
     "execution_count": 35,
     "metadata": {},
     "output_type": "execute_result"
    },
    {
     "data": {
      "image/png": "[encoded data removed]",
      "text/plain": [
       "<Figure size 640x480 with 1 Axes>"
      ]
     },
     "metadata": {},
     "output_type": "display_data"
    }
   ],
   "source": [
    "#unbalanced data plot histogram\n",
    "plt.hist(final_preop_cases['death_inhosp' ])\n",
    "plt.xlabel('death_inhosp')\n",
    "plt.ylabel('frequency')                                                               \n",
    "final_preop_cases['death_inhosp'].value_counts()"
   ]
  },
  {
   "cell_type": "code",
   "execution_count": null,
   "id": "13786df1",
   "metadata": {},
   "outputs": [],
   "source": []
  },
  {
   "cell_type": "markdown",
   "id": "8f360210",
   "metadata": {},
   "source": [
    "# features and labels"
   ]
  },
  {
   "cell_type": "code",
   "execution_count": 36,
   "id": "e2ce2253",
   "metadata": {},
   "outputs": [],
   "source": [
    "X = final_preop_cases.drop(columns=['death_inhosp','case_id','age','sex'],axis=1)\n",
    "y = final_preop_cases['death_inhosp']"
   ]
  },
  {
   "cell_type": "markdown",
   "id": "de1178b8",
   "metadata": {},
   "source": [
    "# pca"
   ]
  },
  {
   "cell_type": "code",
   "execution_count": 37,
   "id": "b73b7461",
   "metadata": {},
   "outputs": [],
   "source": [
    "from sklearn.decomposition import PCA\n",
    "from sklearn.preprocessing import StandardScaler\n",
    "\n",
    "# Assuming 'X' contains your 23-dimensional feature data\n",
    "# Standardize the data\n",
    "scaler = StandardScaler()\n",
    "X_scaled = scaler.fit_transform(X)\n",
    "\n",
    "# Apply PCA to reduce the dimensionality to 15\n",
    "pca = PCA(n_components=15)\n",
    "X_pca = pca.fit_transform(X_scaled)\n",
    "\n",
    "# X_pca now contains the top 15 principal components, which can be considered as the selected top 15 features\n"
   ]
  },
  {
   "cell_type": "markdown",
   "id": "69b8ad10",
   "metadata": {},
   "source": [
    "# smote"
   ]
  },
  {
   "cell_type": "code",
   "execution_count": 38,
   "id": "012e7227",
   "metadata": {},
   "outputs": [],
   "source": [
    "from imblearn.over_sampling import SMOTE\n",
    "\n",
    "# Split the data into training (70%), validation (15%), and test (15%) sets\n",
    "X_train, X_temp, y_train, y_temp = train_test_split(X_pca, y, test_size=0.3, random_state=42)\n",
    "X_validation, X_test, y_validation, y_test = train_test_split(X_temp, y_temp, test_size=0.5, random_state=42)\n",
    "\n",
    "# Apply SMOTE only to the training data\n",
    "smote = SMOTE(random_state=42)\n",
    "X_train_resampled, y_train_resampled = smote.fit_resample(X_train, y_train)\n",
    "\n",
    "# Now, you have balanced training data in X_train_resampled, y_train_resampled,\n",
    "# and validation/test sets in X_validation, X_test, y_validation, y_test\n"
   ]
  },
  {
   "cell_type": "code",
   "execution_count": 39,
   "id": "29fc9b60",
   "metadata": {},
   "outputs": [
    {
     "name": "stdout",
     "output_type": "stream",
     "text": [
      "(6366, 15)\n"
     ]
    }
   ],
   "source": [
    "print(X_train_resampled.shape)"
   ]
  },
  {
   "cell_type": "code",
   "execution_count": 40,
   "id": "442bf0b0",
   "metadata": {},
   "outputs": [
    {
     "data": {
      "text/plain": [
       "0    4547\n",
       "1      18\n",
       "Name: death_inhosp, dtype: int64"
      ]
     },
     "execution_count": 40,
     "metadata": {},
     "output_type": "execute_result"
    },
    {
     "data": {
      "image/png": "[encoded data removed]",
      "text/plain": [
       "<Figure size 640x480 with 1 Axes>"
      ]
     },
     "metadata": {},
     "output_type": "display_data"
    }
   ],
   "source": [
    "#balanced data plot histogram\n",
    "plt.hist(y_train_resampled)\n",
    "plt.xlabel('death_inhosp')\n",
    "plt.ylabel('frequency')                                                               \n",
    "final_preop_cases['death_inhosp'].value_counts()"
   ]
  },
  {
   "cell_type": "code",
   "execution_count": 41,
   "id": "7eaa1ada",
   "metadata": {},
   "outputs": [],
   "source": [
    "from sklearn.preprocessing import StandardScaler\n",
    "sc=StandardScaler()"
   ]
  },
  {
   "cell_type": "code",
   "execution_count": 42,
   "id": "00cf56e9",
   "metadata": {},
   "outputs": [],
   "source": [
    "X_train_f=sc.fit_transform(X_train_resampled)\n",
    "X_test_f=sc.transform(X_test)"
   ]
  },
  {
   "cell_type": "code",
   "execution_count": 43,
   "id": "139a2c96",
   "metadata": {},
   "outputs": [
    {
     "name": "stdout",
     "output_type": "stream",
     "text": [
      "(6366, 15)\n"
     ]
    }
   ],
   "source": [
    "print(X_train_resampled.shape)"
   ]
  },
  {
   "cell_type": "markdown",
   "id": "5d17796f",
   "metadata": {},
   "source": [
    "# lazypredict"
   ]
  },
  {
   "cell_type": "code",
   "execution_count": 44,
   "id": "3ca57a95",
   "metadata": {},
   "outputs": [
    {
     "name": "stdout",
     "output_type": "stream",
     "text": [
      "Requirement already satisfied: lazypredict in c:\\users\\ghild\\anaconda3\\lib\\site-packages (0.2.12)\n",
      "Requirement already satisfied: pandas in c:\\users\\ghild\\anaconda3\\lib\\site-packages (from lazypredict) (1.4.2)\n",
      "Requirement already satisfied: scikit-learn in c:\\users\\ghild\\anaconda3\\lib\\site-packages (from lazypredict) (1.0.2)\n",
      "Requirement already satisfied: joblib in c:\\users\\ghild\\anaconda3\\lib\\site-packages (from lazypredict) (1.2.0)\n",
      "Requirement already satisfied: click in c:\\users\\ghild\\anaconda3\\lib\\site-packages (from lazypredict) (8.0.4)\n",
      "Requirement already satisfied: xgboost in c:\\users\\ghild\\anaconda3\\lib\\site-packages (from lazypredict) (2.0.3)\n",
      "Requirement already satisfied: tqdm in c:\\users\\ghild\\anaconda3\\lib\\site-packages (from lazypredict) (4.64.0)\n",
      "Requirement already satisfied: lightgbm in c:\\users\\ghild\\anaconda3\\lib\\site-packages (from lazypredict) (4.3.0)\n",
      "Requirement already satisfied: colorama in c:\\users\\ghild\\anaconda3\\lib\\site-packages (from click->lazypredict) (0.4.4)\n",
      "Requirement already satisfied: numpy in c:\\users\\ghild\\anaconda3\\lib\\site-packages (from lightgbm->lazypredict) (1.22.4)\n",
      "Requirement already satisfied: scipy in c:\\users\\ghild\\anaconda3\\lib\\site-packages (from lightgbm->lazypredict) (1.7.3)\n",
      "Requirement already satisfied: pytz>=2020.1 in c:\\users\\ghild\\anaconda3\\lib\\site-packages (from pandas->lazypredict) (2021.3)\n",
      "Requirement already satisfied: python-dateutil>=2.8.1 in c:\\users\\ghild\\anaconda3\\lib\\site-packages (from pandas->lazypredict) (2.8.2)\n",
      "Requirement already satisfied: six>=1.5 in c:\\users\\ghild\\anaconda3\\lib\\site-packages (from python-dateutil>=2.8.1->pandas->lazypredict) (1.16.0)\n",
      "Requirement already satisfied: threadpoolctl>=2.0.0 in c:\\users\\ghild\\anaconda3\\lib\\site-packages (from scikit-learn->lazypredict) (2.2.0)\n",
      "Note: you may need to restart the kernel to use updated packages.\n"
     ]
    }
   ],
   "source": [
    "pip install lazypredict"
   ]
  },
  {
   "cell_type": "code",
   "execution_count": 45,
   "id": "7e17ca11",
   "metadata": {},
   "outputs": [],
   "source": [
    "import lazypredict"
   ]
  },
  {
   "cell_type": "code",
   "execution_count": 46,
   "id": "aa458e36",
   "metadata": {},
   "outputs": [],
   "source": [
    "from lazypredict.Supervised import LazyClassifier"
   ]
  },
  {
   "cell_type": "code",
   "execution_count": 47,
   "id": "7d3a9e90",
   "metadata": {},
   "outputs": [
    {
     "name": "stderr",
     "output_type": "stream",
     "text": [
      "100%|██████████| 29/29 [00:16<00:00,  1.71it/s]"
     ]
    },
    {
     "name": "stdout",
     "output_type": "stream",
     "text": [
      "[LightGBM] [Info] Number of positive: 3183, number of negative: 3183\n",
      "[LightGBM] [Info] Auto-choosing col-wise multi-threading, the overhead of testing was 0.000629 seconds.\n",
      "You can set `force_col_wise=true` to remove the overhead.\n",
      "[LightGBM] [Info] Total Bins 3825\n",
      "[LightGBM] [Info] Number of data points in the train set: 6366, number of used features: 15\n",
      "[LightGBM] [Info] [binary:BoostFromScore]: pavg=0.500000 -> initscore=0.000000\n",
      "                               Accuracy  Balanced Accuracy  ROC AUC  F1 Score  \\\n",
      "Model                                                                           \n",
      "ExtraTreeClassifier                0.97               0.73     0.73      0.98   \n",
      "NuSVC                              0.85               0.68     0.68      0.92   \n",
      "CalibratedClassifierCV             0.74               0.62     0.62      0.85   \n",
      "LogisticRegression                 0.74               0.62     0.62      0.85   \n",
      "LinearSVC                          0.73               0.62     0.62      0.84   \n",
      "Perceptron                         0.72               0.61     0.61      0.83   \n",
      "GaussianNB                         0.70               0.60     0.60      0.82   \n",
      "PassiveAggressiveClassifier        0.70               0.60     0.60      0.82   \n",
      "SGDClassifier                      0.68               0.59     0.59      0.80   \n",
      "NearestCentroid                    0.67               0.59     0.59      0.80   \n",
      "RidgeClassifierCV                  0.64               0.57     0.57      0.78   \n",
      "RidgeClassifier                    0.64               0.57     0.57      0.78   \n",
      "LinearDiscriminantAnalysis         0.64               0.57     0.57      0.78   \n",
      "DummyClassifier                    1.00               0.50     0.50      1.00   \n",
      "QuadraticDiscriminantAnalysis      1.00               0.50     0.50      1.00   \n",
      "ExtraTreesClassifier               1.00               0.50     0.50      0.99   \n",
      "LGBMClassifier                     0.99               0.50     0.50      0.99   \n",
      "RandomForestClassifier             0.99               0.50     0.50      0.99   \n",
      "XGBClassifier                      0.99               0.50     0.50      0.99   \n",
      "BaggingClassifier                  0.98               0.49     0.49      0.99   \n",
      "DecisionTreeClassifier             0.97               0.49     0.49      0.98   \n",
      "SVC                                0.97               0.49     0.49      0.98   \n",
      "LabelSpreading                     0.97               0.49     0.49      0.98   \n",
      "LabelPropagation                   0.97               0.49     0.49      0.98   \n",
      "KNeighborsClassifier               0.93               0.47     0.47      0.96   \n",
      "AdaBoostClassifier                 0.93               0.47     0.47      0.96   \n",
      "BernoulliNB                        0.73               0.37     0.37      0.84   \n",
      "\n",
      "                               Time Taken  \n",
      "Model                                      \n",
      "ExtraTreeClassifier                  0.05  \n",
      "NuSVC                                2.70  \n",
      "CalibratedClassifierCV               1.61  \n",
      "LogisticRegression                   0.04  \n",
      "LinearSVC                            0.34  \n",
      "Perceptron                           0.02  \n",
      "GaussianNB                           0.02  \n",
      "PassiveAggressiveClassifier          0.03  \n",
      "SGDClassifier                        0.04  \n",
      "NearestCentroid                      0.02  \n",
      "RidgeClassifierCV                    0.02  \n",
      "RidgeClassifier                      0.02  \n",
      "LinearDiscriminantAnalysis           0.04  \n",
      "DummyClassifier                      0.03  \n",
      "QuadraticDiscriminantAnalysis        0.02  \n",
      "ExtraTreesClassifier                 0.64  \n",
      "LGBMClassifier                       0.30  \n",
      "RandomForestClassifier               2.19  \n",
      "XGBClassifier                        0.17  \n",
      "BaggingClassifier                    1.15  \n",
      "DecisionTreeClassifier               0.19  \n",
      "SVC                                  0.87  \n",
      "LabelSpreading                       2.91  \n",
      "LabelPropagation                     2.08  \n",
      "KNeighborsClassifier                 0.18  \n",
      "AdaBoostClassifier                   1.23  \n",
      "BernoulliNB                          0.04  \n"
     ]
    },
    {
     "name": "stderr",
     "output_type": "stream",
     "text": [
      "\n"
     ]
    }
   ],
   "source": [
    "\n",
    "clf = LazyClassifier(verbose=0,ignore_warnings=True, custom_metric=None)\n",
    "models,predictions = clf.fit(X_train_f, X_test_f, y_train_resampled, y_test)\n",
    "\n",
    "print(models)\n"
   ]
  },
  {
   "cell_type": "markdown",
   "id": "2ffd1ba0",
   "metadata": {},
   "source": [
    "# ExtraTreeClassifier"
   ]
  },
  {
   "cell_type": "markdown",
   "id": "39d1ed05",
   "metadata": {},
   "source": [
    "# hyperparameter tuning"
   ]
  },
  {
   "cell_type": "code",
   "execution_count": 48,
   "id": "15be9501",
   "metadata": {},
   "outputs": [
    {
     "name": "stdout",
     "output_type": "stream",
     "text": [
      "{'max_depth': None, 'min_samples_leaf': 1, 'min_samples_split': 2}\n",
      "Test Accuracy: 0.9693430656934306\n",
      "Validation Accuracy with Hyperparameter Tuning: 1.0\n"
     ]
    }
   ],
   "source": [
    "from sklearn.model_selection import train_test_split, GridSearchCV\n",
    "from sklearn.tree import ExtraTreeClassifier\n",
    "from sklearn.metrics import accuracy_score\n",
    "\n",
    "# Create the ExtraTreeClassifier\n",
    "extra_tree_model = ExtraTreeClassifier(random_state=42)\n",
    "\n",
    "# Define hyperparameters for tuning\n",
    "param_grid = {\n",
    "    'max_depth': [None, 10, 20],\n",
    "    'min_samples_split': [2, 5, 10],\n",
    "    'min_samples_leaf': [1, 2, 4]\n",
    "}\n",
    "\n",
    "# Create GridSearchCV instance\n",
    "grid_search = GridSearchCV(extra_tree_model, param_grid, cv=5, scoring='accuracy', n_jobs=-1)\n",
    "\n",
    "# Fit the model on the training data\n",
    "grid_search.fit(X_train_f, y_train_resampled)\n",
    "\n",
    "# Get the best hyperparameters\n",
    "best_params = grid_search.best_params_\n",
    "print(best_params)\n",
    "# Train the ExtraTreeClassifier with the best hyperparameters on the combined train and validation sets\n",
    "best_extra_tree_model = ExtraTreeClassifier(**best_params, random_state=42)\n",
    "best_extra_tree_model.fit(np.concatenate((X_train_f, X_validation)), np.concatenate((y_train_resampled, y_validation)))\n",
    "\n",
    "# Make predictions on the test set\n",
    "predictions_test = best_extra_tree_model.predict(X_test_f)\n",
    "\n",
    "# Make predictions on the validation set\n",
    "y_pred_val =best_extra_tree_model.predict(X_validation)\n",
    "\n",
    "# Evaluate the model on the test set\n",
    "accuracy_test = accuracy_score(y_test, predictions_test)\n",
    "print(f\"Test Accuracy: {accuracy_test}\")\n",
    "\n",
    "\n",
    "\n",
    "# Measure accuracy on the validation set\n",
    "val_accuracy = accuracy_score(y_validation, y_pred_val)\n",
    "print(\"Validation Accuracy with Hyperparameter Tuning:\", val_accuracy)"
   ]
  },
  {
   "cell_type": "code",
   "execution_count": 50,
   "id": "3fee0c20",
   "metadata": {},
   "outputs": [
    {
     "name": "stdout",
     "output_type": "stream",
     "text": [
      "Confusion Matrix:\n",
      "[[664  19]\n",
      " [  2   0]]\n",
      "Classification Report:\n",
      "              precision    recall  f1-score   support\n",
      "\n",
      "           0       1.00      0.97      0.98       683\n",
      "           1       0.00      0.00      0.00         2\n",
      "\n",
      "    accuracy                           0.97       685\n",
      "   macro avg       0.50      0.49      0.49       685\n",
      "weighted avg       0.99      0.97      0.98       685\n",
      "\n"
     ]
    }
   ],
   "source": [
    "from sklearn.metrics import confusion_matrix, classification_report\n",
    "\n",
    "\n",
    "# Confusion Matrix\n",
    "conf_matrix = confusion_matrix(y_test, predictions_test)\n",
    "print(\"Confusion Matrix:\")\n",
    "print(conf_matrix)\n",
    "\n",
    "# Classification Report\n",
    "class_report = classification_report(y_test, predictions_test)\n",
    "print(\"Classification Report:\")\n",
    "print(class_report)\n"
   ]
  },
  {
   "cell_type": "code",
   "execution_count": null,
   "id": "13fa98bf",
   "metadata": {},
   "outputs": [],
   "source": []
  }
 ],
 "metadata": {
  "kernelspec": {
   "display_name": "Python 3 (ipykernel)",
   "language": "python",
   "name": "python3"
  },
  "language_info": {
   "codemirror_mode": {
    "name": "ipython",
    "version": 3
   },
   "file_extension": ".py",
   "mimetype": "text/x-python",
   "name": "python",
   "nbconvert_exporter": "python",
   "pygments_lexer": "ipython3",
   "version": "3.9.12"
  }
 },
 "nbformat": 4,
 "nbformat_minor": 5
}
